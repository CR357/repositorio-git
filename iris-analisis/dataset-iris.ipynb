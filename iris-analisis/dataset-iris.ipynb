{
 "cells": [
  {
   "cell_type": "markdown",
   "metadata": {},
   "source": [
    "## Dataset Iris"
   ]
  },
  {
   "cell_type": "code",
   "execution_count": 1,
   "metadata": {},
   "outputs": [],
   "source": [
    "import pandas as pd\n",
    "\n",
    "url = \"https://raw.githubusercontent.com/plotly/datasets/master/iris-data.csv\"\n",
    "df = pd.read_csv(url)"
   ]
  },
  {
   "cell_type": "code",
   "execution_count": 3,
   "metadata": {},
   "outputs": [
    {
     "name": "stdout",
     "output_type": "stream",
     "text": [
      "Tamaño del DataFrame: (150, 5)\n",
      "\n",
      "Primeras 5 filas del DataFrame:\n",
      "   sepal length  sepal width  petal length  petal width        class\n",
      "0           5.1          3.5           1.4          0.2  Iris-setosa\n",
      "1           4.9          3.0           1.4          0.2  Iris-setosa\n",
      "2           4.7          3.2           1.3          0.2  Iris-setosa\n",
      "3           4.6          3.1           1.5          0.2  Iris-setosa\n",
      "4           5.0          3.6           1.4          0.2  Iris-setosa\n"
     ]
    }
   ],
   "source": [
    "print(\"Tamaño del DataFrame:\", df.shape)\n",
    "\n",
    "print(\"\\nPrimeras 5 filas del DataFrame:\")\n",
    "print(df.head())"
   ]
  },
  {
   "cell_type": "markdown",
   "metadata": {},
   "source": [
    "#### Describiendo el dataset Iris\n",
    "\n",
    "1. Qué columnas tiene el dataset y que representan.\n",
    "2. La existencia (o no) de valores nulos.\n",
    "3. Estadísticas de cada columna numérica (utilice df.describe()).\n",
    "4. Cuántas filas existen para cada clase de flor.\n",
    "\n"
   ]
  },
  {
   "cell_type": "code",
   "execution_count": 4,
   "metadata": {},
   "outputs": [
    {
     "name": "stdout",
     "output_type": "stream",
     "text": [
      "Columnas del dataset:\n",
      "Index(['sepal length', 'sepal width', 'petal length', 'petal width', 'class'], dtype='object')\n"
     ]
    }
   ],
   "source": [
    "print(\"Columnas del dataset:\")\n",
    "print(df.columns)\n",
    "\n",
    "# Descripción de las columnas:\n",
    "# - sepal_length: Longitud del sépalo en cm\n",
    "# - sepal_width: Ancho del sépalo en cm\n",
    "# - petal_length: Longitud del pétalo en cm\n",
    "# - petal_width: Ancho del pétalo en cm\n",
    "# - class: Clase de la flor (Iris-setosa, Iris-versicolor, Iris-virginica)"
   ]
  }
 ],
 "metadata": {
  "kernelspec": {
   "display_name": "Python 3",
   "language": "python",
   "name": "python3"
  },
  "language_info": {
   "codemirror_mode": {
    "name": "ipython",
    "version": 3
   },
   "file_extension": ".py",
   "mimetype": "text/x-python",
   "name": "python",
   "nbconvert_exporter": "python",
   "pygments_lexer": "ipython3",
   "version": "3.11.9"
  }
 },
 "nbformat": 4,
 "nbformat_minor": 2
}
